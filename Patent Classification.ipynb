{
 "cells": [
  {
   "cell_type": "code",
   "execution_count": 4,
   "metadata": {},
   "outputs": [],
   "source": [
    "import numpy as np\n",
    "import pandas as pd\n",
    "import os\n"
   ]
  },
  {
   "cell_type": "code",
   "execution_count": 8,
   "metadata": {},
   "outputs": [
    {
     "data": {
      "text/html": [
       "<div>\n",
       "<style scoped>\n",
       "    .dataframe tbody tr th:only-of-type {\n",
       "        vertical-align: middle;\n",
       "    }\n",
       "\n",
       "    .dataframe tbody tr th {\n",
       "        vertical-align: top;\n",
       "    }\n",
       "\n",
       "    .dataframe thead th {\n",
       "        text-align: right;\n",
       "    }\n",
       "</style>\n",
       "<table border=\"1\" class=\"dataframe\">\n",
       "  <thead>\n",
       "    <tr style=\"text-align: right;\">\n",
       "      <th></th>\n",
       "      <th>patent_id</th>\n",
       "      <th>patent_text</th>\n",
       "    </tr>\n",
       "  </thead>\n",
       "  <tbody>\n",
       "    <tr>\n",
       "      <th>0</th>\n",
       "      <td>3930271</td>\n",
       "      <td>Golf glove A golf glove disclosed extra finger...</td>\n",
       "    </tr>\n",
       "    <tr>\n",
       "      <th>1</th>\n",
       "      <td>3930272</td>\n",
       "      <td>Crib leg lock A lock height-adjustable crib pl...</td>\n",
       "    </tr>\n",
       "    <tr>\n",
       "      <th>2</th>\n",
       "      <td>3930273</td>\n",
       "      <td>Bed safety side rail arrangement A bed safety ...</td>\n",
       "    </tr>\n",
       "    <tr>\n",
       "      <th>3</th>\n",
       "      <td>3930274</td>\n",
       "      <td>Assembly use recreational activities The assem...</td>\n",
       "    </tr>\n",
       "    <tr>\n",
       "      <th>4</th>\n",
       "      <td>3930276</td>\n",
       "      <td>Wheel spinning vehicle conveying apparatus aut...</td>\n",
       "    </tr>\n",
       "    <tr>\n",
       "      <th>...</th>\n",
       "      <td>...</td>\n",
       "      <td>...</td>\n",
       "    </tr>\n",
       "    <tr>\n",
       "      <th>99114</th>\n",
       "      <td>4035655</td>\n",
       "      <td>Method device implantation particles substrate...</td>\n",
       "    </tr>\n",
       "    <tr>\n",
       "      <th>99115</th>\n",
       "      <td>4035656</td>\n",
       "      <td>Method apparatus use approaching thermonuclear...</td>\n",
       "    </tr>\n",
       "    <tr>\n",
       "      <th>99116</th>\n",
       "      <td>4035657</td>\n",
       "      <td>Ozone generator An ozone generator air pump di...</td>\n",
       "    </tr>\n",
       "    <tr>\n",
       "      <th>99117</th>\n",
       "      <td>4035658</td>\n",
       "      <td>High power wind turbine kinetic accumulator A ...</td>\n",
       "    </tr>\n",
       "    <tr>\n",
       "      <th>99118</th>\n",
       "      <td>4035659</td>\n",
       "      <td>Electrical power-generation apparatus rotary v...</td>\n",
       "    </tr>\n",
       "  </tbody>\n",
       "</table>\n",
       "<p>99119 rows × 2 columns</p>\n",
       "</div>"
      ],
      "text/plain": [
       "       patent_id                                        patent_text\n",
       "0        3930271  Golf glove A golf glove disclosed extra finger...\n",
       "1        3930272  Crib leg lock A lock height-adjustable crib pl...\n",
       "2        3930273  Bed safety side rail arrangement A bed safety ...\n",
       "3        3930274  Assembly use recreational activities The assem...\n",
       "4        3930276  Wheel spinning vehicle conveying apparatus aut...\n",
       "...          ...                                                ...\n",
       "99114    4035655  Method device implantation particles substrate...\n",
       "99115    4035656  Method apparatus use approaching thermonuclear...\n",
       "99116    4035657  Ozone generator An ozone generator air pump di...\n",
       "99117    4035658  High power wind turbine kinetic accumulator A ...\n",
       "99118    4035659  Electrical power-generation apparatus rotary v...\n",
       "\n",
       "[99119 rows x 2 columns]"
      ]
     },
     "execution_count": 8,
     "metadata": {},
     "output_type": "execute_result"
    }
   ],
   "source": [
    "description = pd.read_csv('data/patent_text_test_set_nlp_oct31_2022.csv')\n",
    "description"
   ]
  },
  {
   "cell_type": "code",
   "execution_count": null,
   "metadata": {},
   "outputs": [],
   "source": [
    "labels = pd.read_csv('data/patents_USPC_map_nlp_oct31_2022.csv')"
   ]
  },
  {
   "cell_type": "code",
   "execution_count": null,
   "metadata": {},
   "outputs": [],
   "source": []
  }
 ],
 "metadata": {
  "kernelspec": {
   "display_name": "Python 3",
   "language": "python",
   "name": "python3"
  },
  "language_info": {
   "codemirror_mode": {
    "name": "ipython",
    "version": 3
   },
   "file_extension": ".py",
   "mimetype": "text/x-python",
   "name": "python",
   "nbconvert_exporter": "python",
   "pygments_lexer": "ipython3",
   "version": "3.8.3"
  }
 },
 "nbformat": 4,
 "nbformat_minor": 4
}
